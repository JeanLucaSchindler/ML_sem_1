{
 "cells": [
  {
   "cell_type": "code",
   "execution_count": 1,
   "metadata": {},
   "outputs": [],
   "source": [
    "import pandas as pd\n",
    "import numpy as np\n",
    "\n",
    "np.random.seed(7)"
   ]
  },
  {
   "cell_type": "code",
   "execution_count": 2,
   "metadata": {},
   "outputs": [],
   "source": [
    "def genX(n):\n",
    "    np.random.seed(7)\n",
    "    x1 = np.random.uniform(-5, 5, n)\n",
    "    x2 = np.random.uniform(-2, 2, n)\n",
    "    x0 = np.ones(n)\n",
    "    df = pd.DataFrame({'x0': x0, 'x1': x1, 'x2': x2})\n",
    "    return x0, x1, x2, df\n",
    "\n",
    "def sigmoid(x):\n",
    "    return 1 / (1 + np.exp(-x))"
   ]
  },
  {
   "cell_type": "code",
   "execution_count": 3,
   "metadata": {},
   "outputs": [],
   "source": [
    "def gen_data(n):\n",
    "    np.random.seed(7)\n",
    "    x0, x1, x2, x_dataframe = genX(n)\n",
    "\n",
    "    linear_y = 3 * x0 + 1 * x1 - 2 * x2 + np.random.normal(0, 0.05, n)\n",
    "\n",
    "    y = np.random.binomial(1, sigmoid(linear_y))\n",
    "\n",
    "    return x_dataframe, y"
   ]
  },
  {
   "cell_type": "code",
   "execution_count": 4,
   "metadata": {},
   "outputs": [],
   "source": [
    "def predict_row(row, coefficients):\n",
    "\n",
    "    pred_terms = np.multiply(row, coefficients)\n",
    "    yhat = np.sum(pred_terms)\n",
    "    return 1 / (1 + np.exp(-yhat))"
   ]
  },
  {
   "cell_type": "code",
   "execution_count": 5,
   "metadata": {},
   "outputs": [],
   "source": [
    "def mse(y, yhat):\n",
    "    return np.mean((y - yhat)**2)\n",
    "\n",
    "def nll(y, yhat):\n",
    "    return -np.mean(y * np.log(yhat) + (1 - y) * np.log(1 - yhat))"
   ]
  },
  {
   "cell_type": "code",
   "execution_count": 6,
   "metadata": {},
   "outputs": [],
   "source": [
    "n = 1000\n",
    "X, y = gen_data(n)"
   ]
  },
  {
   "cell_type": "markdown",
   "metadata": {},
   "source": [
    "# Random guess"
   ]
  },
  {
   "cell_type": "code",
   "execution_count": 7,
   "metadata": {},
   "outputs": [],
   "source": [
    "def true_model():\n",
    "    print('True model:')\n",
    "    y_pred = np.zeros(n)\n",
    "\n",
    "    for row in range(n):\n",
    "        y_pred[row] = predict_row(np.array(X.iloc[row]), np.array([3,1,-2]))\n",
    "\n",
    "    print(f'MSE: {mse(y, y_pred)}')\n",
    "    print(f'NLL: {nll(y, y_pred)}')"
   ]
  },
  {
   "cell_type": "code",
   "execution_count": 8,
   "metadata": {},
   "outputs": [
    {
     "name": "stdout",
     "output_type": "stream",
     "text": [
      "MSE: 0.2996565695865238\n",
      "NLL: 0.9081213170722178\n",
      "\n",
      "True model:\n",
      "MSE: 0.06831581573421616\n",
      "NLL: 0.21844118029674345\n"
     ]
    }
   ],
   "source": [
    "y_pred = np.zeros(n)\n",
    "\n",
    "for row in range(n):\n",
    "    y_pred[row] = predict_row(np.array(X.iloc[row]), np.array([0,0.5,1]))\n",
    "\n",
    "print(f'MSE: {mse(y, y_pred)}')\n",
    "print(f'NLL: {nll(y, y_pred)}')\n",
    "\n",
    "print()\n",
    "true_model()"
   ]
  },
  {
   "cell_type": "markdown",
   "metadata": {},
   "source": [
    "# Logistic Regression"
   ]
  },
  {
   "cell_type": "markdown",
   "metadata": {},
   "source": [
    "The partial derivative of the NLL with respect to a coefficient ($ \\beta_k\\ $) is given by:\n",
    "\n",
    "$$\n",
    "\\frac{\\partial \\text{NLL}}{\\partial \\beta_k} = (\\hat{y} - y) \\cdot x_k\n",
    "$$\n",
    "\n",
    "\n",
    "This derivative indicates how much $ \\beta_k  $ should change to reduce the error.\n",
    "\n",
    "##### Update Rule:\n",
    "Using the learning rate ($\\eta$), the update rule for the coefficients is:\n",
    "\n",
    "$$\n",
    "\\beta_k \\gets \\beta_k - \\eta \\cdot \\frac{\\partial \\text{NLL}}{\\partial \\beta_k}\n",
    "$$\n",
    "\n",
    "Substituting the derivative:\n",
    "\n",
    "$$\n",
    "\\beta_k \\gets \\beta_k - \\eta \\cdot (\\hat{y} - y) \\cdot x_k\n",
    "$$\n"
   ]
  },
  {
   "cell_type": "code",
   "execution_count": 9,
   "metadata": {},
   "outputs": [],
   "source": [
    "# for sake of testing\n",
    "i = 1\n",
    "coefs = np.zeros(3) # (beta_0,beta_1,beta_2)\n",
    "l_rate = 0.01"
   ]
  },
  {
   "cell_type": "code",
   "execution_count": 10,
   "metadata": {},
   "outputs": [],
   "source": [
    "# Predict the outcome for row i\n",
    "yhat_i = predict_row(np.array(X.iloc[i]), coefs)\n",
    "\n",
    "# Update each coefficient\n",
    "for k in range(len(coefs)):\n",
    "    coefs[k] = coefs[k] - l_rate * (yhat_i - y[i]) * X.iloc[i, k]"
   ]
  },
  {
   "cell_type": "code",
   "execution_count": 11,
   "metadata": {},
   "outputs": [
    {
     "data": {
      "text/plain": [
       "array([0.005     , 0.01399594, 0.00052306])"
      ]
     },
     "execution_count": 11,
     "metadata": {},
     "output_type": "execute_result"
    }
   ],
   "source": [
    "coefs"
   ]
  },
  {
   "cell_type": "markdown",
   "metadata": {},
   "source": [
    "# Stochastic gradient descent"
   ]
  },
  {
   "cell_type": "code",
   "execution_count": 16,
   "metadata": {},
   "outputs": [
    {
     "data": {
      "text/plain": [
       "array([ 2.87705294,  1.11426409, -1.80516914])"
      ]
     },
     "execution_count": 16,
     "metadata": {},
     "output_type": "execute_result"
    }
   ],
   "source": [
    "coefs = np.zeros(3) # (beta_0,beta_1,beta_2)\n",
    "l_rate = 0.01\n",
    "epochs = 10\n",
    "\n",
    "for _ in range(epochs):\n",
    "    i = np.arange(n)\n",
    "    np.random.shuffle(i)\n",
    "    for index in i:\n",
    "        # Predict the outcome for row i\n",
    "        yhat_i = predict_row(np.array(X.iloc[index]), coefs)\n",
    "\n",
    "        # Update each coefficient\n",
    "        for k in range(len(coefs)):\n",
    "            coefs[k] = coefs[k] - l_rate * (yhat_i - y[index]) * X.iloc[index, k]\n",
    "\n",
    "coefs"
   ]
  },
  {
   "cell_type": "markdown",
   "metadata": {},
   "source": [
    "# Convert our estimator into a function!"
   ]
  }
 ],
 "metadata": {
  "kernelspec": {
   "display_name": "lewagon",
   "language": "python",
   "name": "python3"
  },
  "language_info": {
   "codemirror_mode": {
    "name": "ipython",
    "version": 3
   },
   "file_extension": ".py",
   "mimetype": "text/x-python",
   "name": "python",
   "nbconvert_exporter": "python",
   "pygments_lexer": "ipython3",
   "version": "3.10.6"
  }
 },
 "nbformat": 4,
 "nbformat_minor": 2
}
